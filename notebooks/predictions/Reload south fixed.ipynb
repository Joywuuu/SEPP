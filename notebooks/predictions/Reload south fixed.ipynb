{
 "cells": [
  {
   "cell_type": "markdown",
   "metadata": {},
   "source": [
    "# Reload the predictions\n",
    "\n",
    "Look at a larger range of settings for the _fixed_ trigger kernel case"
   ]
  },
  {
   "cell_type": "code",
   "execution_count": null,
   "metadata": {
    "collapsed": true
   },
   "outputs": [],
   "source": [
    "%matplotlib inline\n",
    "import matplotlib.pyplot as plt\n",
    "import numpy as np\n",
    "import open_cp.scripted\n",
    "import open_cp.scripted.analysis as analysis"
   ]
  },
  {
   "cell_type": "code",
   "execution_count": null,
   "metadata": {
    "collapsed": false
   },
   "outputs": [],
   "source": [
    "betas = analysis.hit_counts_to_beta(\"South_fixed.csv\")"
   ]
  },
  {
   "cell_type": "code",
   "execution_count": null,
   "metadata": {
    "collapsed": false
   },
   "outputs": [],
   "source": [
    "{ analysis.parse_prediction_key(key).name for key in betas }"
   ]
  },
  {
   "cell_type": "markdown",
   "metadata": {},
   "source": [
    "### `NaiveProvider`"
   ]
  },
  {
   "cell_type": "code",
   "execution_count": null,
   "metadata": {
    "collapsed": false,
    "scrolled": false
   },
   "outputs": [],
   "source": [
    "name = \"NaiveProvider\"\n",
    "bs = {k:v for k,v in betas.items() if analysis.parse_prediction_key(k).name == name}\n",
    "fig, axes = plt.subplots(ncols=2, figsize=(16,8))\n",
    "analysis.plot_betas(bs, axes[0], coverages=range(1,21))\n",
    "analysis.plot_betas(bs, axes[1], coverages=range(1,21), plot_sds=False)"
   ]
  },
  {
   "cell_type": "markdown",
   "metadata": {},
   "source": [
    "### `KDEFixedTriggerProvider`"
   ]
  },
  {
   "cell_type": "code",
   "execution_count": null,
   "metadata": {
    "collapsed": false,
    "scrolled": false
   },
   "outputs": [],
   "source": [
    "name = \"KDEFixedTriggerProvider\"\n",
    "bs = {k:v for k,v in betas.items() if analysis.parse_prediction_key(k).name == name}\n",
    "fig, axes = plt.subplots(ncols=2, figsize=(16,8))\n",
    "analysis.plot_betas(bs, axes[0], coverages=range(1,21))\n",
    "analysis.plot_betas(bs, axes[1], coverages=range(1,21), plot_sds=False)\n",
    "for ax in axes:\n",
    "    ax.legend([])"
   ]
  },
  {
   "cell_type": "markdown",
   "metadata": {},
   "source": [
    "### `GridFixedTriggerProvider`"
   ]
  },
  {
   "cell_type": "code",
   "execution_count": null,
   "metadata": {
    "collapsed": false,
    "scrolled": false
   },
   "outputs": [],
   "source": [
    "name = \"GridFixedTriggerProvider\"\n",
    "bs = {k:v for k,v in betas.items() if analysis.parse_prediction_key(k).name == name}\n",
    "fig, axes = plt.subplots(ncols=2, figsize=(16,8))\n",
    "analysis.plot_betas(bs, axes[0], coverages=range(1,21))\n",
    "analysis.plot_betas(bs, axes[1], coverages=range(1,21), plot_sds=False)\n",
    "for ax in axes:\n",
    "    ax.legend([])"
   ]
  },
  {
   "cell_type": "markdown",
   "metadata": {
    "collapsed": true
   },
   "source": [
    "## All the predictions"
   ]
  },
  {
   "cell_type": "code",
   "execution_count": null,
   "metadata": {
    "collapsed": false
   },
   "outputs": [],
   "source": [
    "fig, axes = plt.subplots(ncols=2, figsize=(16,8))\n",
    "analysis.plot_betas(betas, axes[0])\n",
    "analysis.plot_betas(betas, axes[1], plot_sds=False)\n",
    "for ax in axes:\n",
    "    ax.legend([])"
   ]
  },
  {
   "cell_type": "code",
   "execution_count": null,
   "metadata": {
    "collapsed": false
   },
   "outputs": [],
   "source": [
    "fig, axes = plt.subplots(ncols=2, figsize=(16,8))\n",
    "analysis.plot_betas(betas, axes[0], range(1,21))\n",
    "analysis.plot_betas(betas, axes[1], range(1,21), False)\n",
    "for ax in axes:\n",
    "    ax.legend([])"
   ]
  },
  {
   "cell_type": "code",
   "execution_count": null,
   "metadata": {
    "collapsed": false
   },
   "outputs": [],
   "source": [
    "def ordered_by_name(name):\n",
    "    bs = {k:v for k,v in betas.items() if analysis.parse_prediction_key(k).name == name}\n",
    "    coverages, max_by_cov = analysis.compute_betas_means_against_max(bs, range(1, 21))\n",
    "    maxes = [(k,np.mean(v)) for k,v in max_by_cov.items()]\n",
    "    maxes.sort(key = lambda pr : -pr[1])\n",
    "    return maxes\n",
    "\n",
    "want = []\n",
    "for name in {analysis.parse_prediction_key(key).name for key in betas}:\n",
    "    maxes = ordered_by_name(name)\n",
    "    key = maxes[0][0]\n",
    "    want.append(key)"
   ]
  },
  {
   "cell_type": "code",
   "execution_count": null,
   "metadata": {
    "collapsed": false
   },
   "outputs": [],
   "source": [
    "bs = {k:v for k,v in betas.items() if k in want}\n",
    "\n",
    "fig, axes = plt.subplots(ncols=2, figsize=(16,6))\n",
    "analysis.plot_betas(bs, axes[0])\n",
    "analysis.plot_betas(bs, axes[1], coverages=range(1,21))\n",
    "axes[1].set(ylim=[0,0.6])\n",
    "\n",
    "for ax, loc in zip(axes, [4, 2]):\n",
    "    ax.legend([analysis.parse_prediction_key(k).name for k in bs], loc=loc)\n",
    "ax = axes[1]\n",
    "for y in range(12):\n",
    "    ax.plot([1, 20], [y/20, y/20], linewidth=0.5, linestyle=\"--\", alpha=0.5, color=\"black\", zorder=-20)\n",
    "for x in np.linspace(1, 20, 20):\n",
    "    ax.plot([x, x], [0, 0.6], linewidth=0.5, linestyle=\"--\", alpha=0.5, color=\"black\", zorder=-20)"
   ]
  },
  {
   "cell_type": "code",
   "execution_count": null,
   "metadata": {
    "collapsed": false
   },
   "outputs": [],
   "source": [
    "fig, ax = plt.subplots(figsize=(9,7))\n",
    "\n",
    "base = bs['NaiveProvider (CountingGridKernel)']\n",
    "\n",
    "x = list(range(1, 21))\n",
    "by_key = []\n",
    "for key, b in bs.items():\n",
    "    y = [b[t].median() / base[t].median() for t in x]\n",
    "    ax.plot(x, y)\n",
    "    by_key.append((analysis.parse_prediction_key(key).name, np.mean(y)))\n",
    "ax.legend([analysis.parse_prediction_key(k).name for k in bs])\n",
    "ax.set(xlabel=\"Coverage level (%)\", ylabel=\"Hit-rate relative to NaiveProvider\")\n",
    "None"
   ]
  },
  {
   "cell_type": "code",
   "execution_count": null,
   "metadata": {
    "collapsed": false
   },
   "outputs": [],
   "source": [
    "by_key.sort(key = lambda pa : pa[1])\n",
    "by_key"
   ]
  },
  {
   "cell_type": "code",
   "execution_count": null,
   "metadata": {
    "collapsed": false
   },
   "outputs": [],
   "source": [
    "for name in {analysis.parse_prediction_key(key).name for key in betas}:\n",
    "    maxes = ordered_by_name(name)\n",
    "    print(maxes[0][0])"
   ]
  },
  {
   "cell_type": "code",
   "execution_count": null,
   "metadata": {
    "collapsed": true
   },
   "outputs": [],
   "source": []
  }
 ],
 "metadata": {
  "kernelspec": {
   "display_name": "Python 3",
   "language": "python",
   "name": "python3"
  },
  "language_info": {
   "codemirror_mode": {
    "name": "ipython",
    "version": 3
   },
   "file_extension": ".py",
   "mimetype": "text/x-python",
   "name": "python",
   "nbconvert_exporter": "python",
   "pygments_lexer": "ipython3",
   "version": "3.6.0"
  }
 },
 "nbformat": 4,
 "nbformat_minor": 2
}
